{
 "cells": [
  {
   "cell_type": "code",
   "execution_count": 20,
   "metadata": {},
   "outputs": [],
   "source": [
    "from decouple import config\n",
    "import json\n",
    "import pymongo\n",
    "from pprint import pprint\n",
    "from gql import gql, Client\n",
    "from gql.transport.aiohttp import AIOHTTPTransport\n",
    "from bson import json_util\n",
    "\n",
    "MONGODB_API_KEY = config(\"MONGODB_API_KEY\")\n",
    "ANNICT_API_KEY = config(\"ANNICT_API_KEY\")\n",
    "ANNICT_API_URL = \"https://api.annict.com/graphql\"\n",
    "\n",
    "# Select your transport with a defined url endpoint\n",
    "headers = {\n",
    "    \"Content-type\": \"application/json\",\n",
    "    \"Authorization\": f\"Bearer {ANNICT_API_KEY}\"\n",
    "    }\n",
    "transport = AIOHTTPTransport(url=ANNICT_API_URL, headers=headers)\n",
    "\n",
    "# Create a GraphQL client using the defined transport\n",
    "client = Client(transport=transport, fetch_schema_from_transport=True, execute_timeout=300)\n",
    "\n",
    "\n"
   ]
  },
  {
   "cell_type": "code",
   "execution_count": 22,
   "metadata": {},
   "outputs": [],
   "source": [
    "# Provide a GraphQL query\n",
    "query = gql(\n",
    "    \"\"\"\n",
    "query {\n",
    "  searchWorks(\n",
    "    orderBy: {field: WATCHERS_COUNT, direction: DESC},\n",
    "  ) {\n",
    "    nodes {\n",
    "      annictId\n",
    "      title\n",
    "      titleKana\n",
    "      watchersCount\n",
    "      reviewsCount\n",
    "      reviews {\n",
    "        nodes {\n",
    "          id\n",
    "          ratingOverallState\n",
    "          ratingMusicState\n",
    "          ratingStoryState\n",
    "          ratingAnimationState\n",
    "          ratingCharacterState\n",
    "        }\n",
    "      }\n",
    "    }\n",
    "  }\n",
    "}\n",
    "\"\"\"\n",
    ")\n",
    "\n",
    "# res = client.execute(query)\n",
    "result = await client.execute_async(query)"
   ]
  },
  {
   "cell_type": "code",
   "execution_count": 76,
   "metadata": {},
   "outputs": [],
   "source": [
    "client = pymongo.MongoClient(MONGODB_API_KEY)\n",
    "db = client.raw_data\n",
    "collection_reviews = db.reviews"
   ]
  },
  {
   "cell_type": "code",
   "execution_count": 31,
   "metadata": {},
   "outputs": [],
   "source": [
    "import pandas as pd\n"
   ]
  },
  {
   "cell_type": "code",
   "execution_count": 77,
   "metadata": {},
   "outputs": [],
   "source": [
    "df = pd.json_normalize(result[\"searchWorks\"][\"nodes\"], [\"reviews\", \"nodes\"], [\"annictId\", \"title\", \"titleKana\", \"watchersCount\", \"reviewsCount\"])"
   ]
  },
  {
   "cell_type": "code",
   "execution_count": 78,
   "metadata": {},
   "outputs": [
    {
     "data": {
      "text/html": [
       "<div>\n",
       "<style scoped>\n",
       "    .dataframe tbody tr th:only-of-type {\n",
       "        vertical-align: middle;\n",
       "    }\n",
       "\n",
       "    .dataframe tbody tr th {\n",
       "        vertical-align: top;\n",
       "    }\n",
       "\n",
       "    .dataframe thead th {\n",
       "        text-align: right;\n",
       "    }\n",
       "</style>\n",
       "<table border=\"1\" class=\"dataframe\">\n",
       "  <thead>\n",
       "    <tr style=\"text-align: right;\">\n",
       "      <th></th>\n",
       "      <th>id</th>\n",
       "      <th>ratingOverallState</th>\n",
       "      <th>ratingMusicState</th>\n",
       "      <th>ratingStoryState</th>\n",
       "      <th>ratingAnimationState</th>\n",
       "      <th>ratingCharacterState</th>\n",
       "      <th>annictId</th>\n",
       "      <th>title</th>\n",
       "      <th>titleKana</th>\n",
       "      <th>watchersCount</th>\n",
       "      <th>reviewsCount</th>\n",
       "    </tr>\n",
       "  </thead>\n",
       "  <tbody>\n",
       "    <tr>\n",
       "      <th>0</th>\n",
       "      <td>UmV2aWV3LTIxNDE=</td>\n",
       "      <td>GREAT</td>\n",
       "      <td>GREAT</td>\n",
       "      <td>GREAT</td>\n",
       "      <td>GREAT</td>\n",
       "      <td>GREAT</td>\n",
       "      <td>2108</td>\n",
       "      <td>魔法少女まどか☆マギカ</td>\n",
       "      <td>まほうしょうじょまどかまぎか</td>\n",
       "      <td>10749</td>\n",
       "      <td>101</td>\n",
       "    </tr>\n",
       "    <tr>\n",
       "      <th>1</th>\n",
       "      <td>UmV2aWV3LTIyNTM=</td>\n",
       "      <td>GOOD</td>\n",
       "      <td>GREAT</td>\n",
       "      <td>GOOD</td>\n",
       "      <td>AVERAGE</td>\n",
       "      <td>AVERAGE</td>\n",
       "      <td>2108</td>\n",
       "      <td>魔法少女まどか☆マギカ</td>\n",
       "      <td>まほうしょうじょまどかまぎか</td>\n",
       "      <td>10749</td>\n",
       "      <td>101</td>\n",
       "    </tr>\n",
       "    <tr>\n",
       "      <th>2</th>\n",
       "      <td>UmV2aWV3LTI0MDI=</td>\n",
       "      <td>GREAT</td>\n",
       "      <td>GOOD</td>\n",
       "      <td>GREAT</td>\n",
       "      <td>GOOD</td>\n",
       "      <td>GREAT</td>\n",
       "      <td>2108</td>\n",
       "      <td>魔法少女まどか☆マギカ</td>\n",
       "      <td>まほうしょうじょまどかまぎか</td>\n",
       "      <td>10749</td>\n",
       "      <td>101</td>\n",
       "    </tr>\n",
       "    <tr>\n",
       "      <th>3</th>\n",
       "      <td>UmV2aWV3LTE1MzI2</td>\n",
       "      <td>GOOD</td>\n",
       "      <td>GREAT</td>\n",
       "      <td>GREAT</td>\n",
       "      <td>BAD</td>\n",
       "      <td>GREAT</td>\n",
       "      <td>2108</td>\n",
       "      <td>魔法少女まどか☆マギカ</td>\n",
       "      <td>まほうしょうじょまどかまぎか</td>\n",
       "      <td>10749</td>\n",
       "      <td>101</td>\n",
       "    </tr>\n",
       "    <tr>\n",
       "      <th>4</th>\n",
       "      <td>UmV2aWV3LTQ2Nzc3</td>\n",
       "      <td>GREAT</td>\n",
       "      <td>None</td>\n",
       "      <td>None</td>\n",
       "      <td>None</td>\n",
       "      <td>None</td>\n",
       "      <td>2108</td>\n",
       "      <td>魔法少女まどか☆マギカ</td>\n",
       "      <td>まほうしょうじょまどかまぎか</td>\n",
       "      <td>10749</td>\n",
       "      <td>101</td>\n",
       "    </tr>\n",
       "  </tbody>\n",
       "</table>\n",
       "</div>"
      ],
      "text/plain": [
       "                 id ratingOverallState ratingMusicState ratingStoryState  \\\n",
       "0  UmV2aWV3LTIxNDE=              GREAT            GREAT            GREAT   \n",
       "1  UmV2aWV3LTIyNTM=               GOOD            GREAT             GOOD   \n",
       "2  UmV2aWV3LTI0MDI=              GREAT             GOOD            GREAT   \n",
       "3  UmV2aWV3LTE1MzI2               GOOD            GREAT            GREAT   \n",
       "4  UmV2aWV3LTQ2Nzc3              GREAT             None             None   \n",
       "\n",
       "  ratingAnimationState ratingCharacterState annictId        title  \\\n",
       "0                GREAT                GREAT     2108  魔法少女まどか☆マギカ   \n",
       "1              AVERAGE              AVERAGE     2108  魔法少女まどか☆マギカ   \n",
       "2                 GOOD                GREAT     2108  魔法少女まどか☆マギカ   \n",
       "3                  BAD                GREAT     2108  魔法少女まどか☆マギカ   \n",
       "4                 None                 None     2108  魔法少女まどか☆マギカ   \n",
       "\n",
       "        titleKana watchersCount reviewsCount  \n",
       "0  まほうしょうじょまどかまぎか         10749          101  \n",
       "1  まほうしょうじょまどかまぎか         10749          101  \n",
       "2  まほうしょうじょまどかまぎか         10749          101  \n",
       "3  まほうしょうじょまどかまぎか         10749          101  \n",
       "4  まほうしょうじょまどかまぎか         10749          101  "
      ]
     },
     "execution_count": 78,
     "metadata": {},
     "output_type": "execute_result"
    }
   ],
   "source": [
    "df.head()"
   ]
  },
  {
   "cell_type": "code",
   "execution_count": 79,
   "metadata": {},
   "outputs": [
    {
     "data": {
      "text/plain": [
       "<pymongo.results.InsertManyResult at 0x7f968fe9fdc0>"
      ]
     },
     "execution_count": 79,
     "metadata": {},
     "output_type": "execute_result"
    }
   ],
   "source": [
    "collection_reviews.insert_many(df.to_dict(\"records\"))"
   ]
  }
 ],
 "metadata": {
  "kernelspec": {
   "display_name": "Python 3.9.15 64-bit",
   "language": "python",
   "name": "python3"
  },
  "language_info": {
   "codemirror_mode": {
    "name": "ipython",
    "version": 3
   },
   "file_extension": ".py",
   "mimetype": "text/x-python",
   "name": "python",
   "nbconvert_exporter": "python",
   "pygments_lexer": "ipython3",
   "version": "3.9.15"
  },
  "orig_nbformat": 4,
  "vscode": {
   "interpreter": {
    "hash": "949777d72b0d2535278d3dc13498b2535136f6dfe0678499012e853ee9abcab1"
   }
  }
 },
 "nbformat": 4,
 "nbformat_minor": 2
}
